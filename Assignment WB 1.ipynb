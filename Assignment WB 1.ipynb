{
 "cells": [
  {
   "cell_type": "code",
   "execution_count": 1,
   "metadata": {},
   "outputs": [
    {
     "name": "stdout",
     "output_type": "stream",
     "text": [
      "C:\\Users\\vivek\n"
     ]
    }
   ],
   "source": [
    "# download the CSV datafile for a state. Now, try to import that data into Python.\n",
    "\n",
    "import os\n",
    "print(os.getcwd())"
   ]
  },
  {
   "cell_type": "code",
   "execution_count": 9,
   "metadata": {},
   "outputs": [
    {
     "data": {
      "text/html": [
       "<div>\n",
       "<style scoped>\n",
       "    .dataframe tbody tr th:only-of-type {\n",
       "        vertical-align: middle;\n",
       "    }\n",
       "\n",
       "    .dataframe tbody tr th {\n",
       "        vertical-align: top;\n",
       "    }\n",
       "\n",
       "    .dataframe thead th {\n",
       "        text-align: right;\n",
       "    }\n",
       "</style>\n",
       "<table border=\"1\" class=\"dataframe\">\n",
       "  <thead>\n",
       "    <tr style=\"text-align: right;\">\n",
       "      <th></th>\n",
       "      <th>GEOID</th>\n",
       "      <th>SUMLEV</th>\n",
       "      <th>STATE</th>\n",
       "      <th>COUNTY</th>\n",
       "      <th>CBSA</th>\n",
       "      <th>CSA</th>\n",
       "      <th>NECTA</th>\n",
       "      <th>CNECTA</th>\n",
       "      <th>NAME</th>\n",
       "      <th>POP100</th>\n",
       "      <th>HU100</th>\n",
       "      <th>POP100.2000</th>\n",
       "      <th>HU100.2000</th>\n",
       "      <th>P001001</th>\n",
       "      <th>P001001.2000</th>\n",
       "    </tr>\n",
       "  </thead>\n",
       "  <tbody>\n",
       "    <tr>\n",
       "      <th>0</th>\n",
       "      <td>1</td>\n",
       "      <td>40</td>\n",
       "      <td>1</td>\n",
       "      <td>NaN</td>\n",
       "      <td>NaN</td>\n",
       "      <td>NaN</td>\n",
       "      <td>NaN</td>\n",
       "      <td>NaN</td>\n",
       "      <td>Alabama</td>\n",
       "      <td>4779736</td>\n",
       "      <td>2171853</td>\n",
       "      <td>4447100</td>\n",
       "      <td>1963711</td>\n",
       "      <td>4779736</td>\n",
       "      <td>4447100</td>\n",
       "    </tr>\n",
       "  </tbody>\n",
       "</table>\n",
       "</div>"
      ],
      "text/plain": [
       "   GEOID  SUMLEV  STATE  COUNTY  CBSA  CSA  NECTA  CNECTA     NAME   POP100  \\\n",
       "0      1      40      1     NaN   NaN  NaN    NaN     NaN  Alabama  4779736   \n",
       "\n",
       "     HU100  POP100.2000  HU100.2000  P001001  P001001.2000  \n",
       "0  2171853      4447100     1963711  4779736       4447100  "
      ]
     },
     "execution_count": 9,
     "metadata": {},
     "output_type": "execute_result"
    }
   ],
   "source": [
    "import pandas as pd\n",
    "df = pd.read_csv(\"all_040_in_01.P1.csv\")\n",
    "#df.head\n",
    "df\n",
    "df.to_csv(index=False)"
   ]
  },
  {
   "cell_type": "code",
   "execution_count": 8,
   "metadata": {},
   "outputs": [
    {
     "data": {
      "text/plain": [
       "'Names,Grades,BS,MS,PhD\\r\\nBob,76,1,2,0\\r\\nJessica,95,1,1,1\\r\\nMary,77,0,0,0\\r\\nJohn,78,0,0,0\\r\\nMel,99,1,0,0\\r\\n'"
      ]
     },
     "execution_count": 8,
     "metadata": {},
     "output_type": "execute_result"
    }
   ],
   "source": [
    "# Can you export the dataframe created by the code in Listing 2-8 to CSV?\n",
    "\n",
    "import pandas as pd \n",
    "names = ['Bob','Jessica','Mary','John','Mel'] \n",
    "grades = [76,95,77,78,99] \n",
    "bsdegrees = [1,1,0,0,1] \n",
    "msdegrees = [2,1,0,0,0] \n",
    "phddegrees = [0,1,0,0,0] \n",
    "Degrees = zip(names,grades,bsdegrees,msdegrees,phddegrees) \n",
    "columns = ['Names','Grades','BS','MS','PhD'] \n",
    "df = pd.DataFrame(data = Degrees, columns=['Names','Grades','BS','MS','PhD']) \n",
    "df\n",
    "df.to_csv(index=False)\n"
   ]
  },
  {
   "cell_type": "code",
   "execution_count": 10,
   "metadata": {},
   "outputs": [
    {
     "data": {
      "text/plain": [
       "'GEOID,SUMLEV,STATE,COUNTY,CBSA,CSA,NECTA,CNECTA,NAME,POP100,HU100,POP100.2000,HU100.2000,P001001,P001001.2000\\r\\n1,40,1,,,,,,Alabama,4779736,2171853,4447100,1963711,4779736,4447100\\r\\n'"
      ]
     },
     "execution_count": 10,
     "metadata": {},
     "output_type": "execute_result"
    }
   ],
   "source": [
    "import pandas as pd\n",
    "df = pd.read_csv(\"all_040_in_01.P1.csv\")\n",
    "#data.head\n",
    "df\n",
    "df.to_csv(index=False)\n"
   ]
  },
  {
   "cell_type": "code",
   "execution_count": null,
   "metadata": {},
   "outputs": [],
   "source": []
  }
 ],
 "metadata": {
  "kernelspec": {
   "display_name": "Python 3",
   "language": "python",
   "name": "python3"
  },
  "language_info": {
   "codemirror_mode": {
    "name": "ipython",
    "version": 3
   },
   "file_extension": ".py",
   "mimetype": "text/x-python",
   "name": "python",
   "nbconvert_exporter": "python",
   "pygments_lexer": "ipython3",
   "version": "3.7.3"
  }
 },
 "nbformat": 4,
 "nbformat_minor": 2
}
